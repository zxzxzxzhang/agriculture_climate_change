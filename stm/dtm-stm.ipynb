{
 "cells": [
  {
   "metadata": {
    "ExecuteTime": {
     "end_time": "2024-10-31T16:22:46.417536Z",
     "start_time": "2024-10-31T16:22:45.691205Z"
    }
   },
   "cell_type": "code",
   "source": [
    "import pandas as pd\n",
    "import matplotlib.pyplot as plt\n",
    "plt.rcParams['figure.dpi'] = 1000\n",
    "plt.rcParams['font.sans-serif']=['Arial'] #用来正常显示中文标签\n",
    "plt.rcParams['axes.unicode_minus']=False #用来正常显示负号\n",
    "df = pd.read_excel(r'../new_agriculture_data_3.xlsx')\n",
    "df = df.dropna(subset=['摘要(译)(English)'])\n",
    "df = df[df['摘要(译)(English)'] != '-']\n",
    "df"
   ],
   "id": "82b63a3a9bc19648",
   "execution_count": 38,
   "outputs": []
  },
  {
   "metadata": {
    "ExecuteTime": {
     "end_time": "2024-10-31T16:22:46.449266Z",
     "start_time": "2024-10-31T16:22:46.417536Z"
    }
   },
   "cell_type": "code",
   "source": [
    "european_countries = ['Russia', 'Germany', 'United Kingdom', 'Netherlands', 'Portugal', 'Spain', 'Sweden', \n",
    "                         'Romania', 'Denmark', 'Greece', 'Finland', 'France', 'Switzerland', 'Ukraine', 'Belgium', 'Austria', 'Bulgaria', 'Serbia', 'Poland', 'Hungary']\n",
    "\n",
    "df['国家'] = df['国家'].replace(european_countries, 'Europe')\n",
    "df"
   ],
   "id": "2ef9709b3c2eadf6",
   "execution_count": 39,
   "outputs": []
  },
  {
   "metadata": {
    "ExecuteTime": {
     "end_time": "2024-10-31T16:22:46.465256Z",
     "start_time": "2024-10-31T16:22:46.451103Z"
    }
   },
   "cell_type": "code",
   "source": "patent_counts = df['国家'].value_counts().reset_index()",
   "id": "9607dc13b7e3f023",
   "execution_count": 40,
   "outputs": []
  },
  {
   "metadata": {
    "ExecuteTime": {
     "end_time": "2024-10-31T16:22:47.668191Z",
     "start_time": "2024-10-31T16:22:47.638149Z"
    }
   },
   "cell_type": "code",
   "source": [
    "df2 = pd.read_csv('stm_all_new.csv')\n",
    "df2"
   ],
   "id": "108a514c044ca041",
   "execution_count": 41,
   "outputs": []
  },
  {
   "metadata": {
    "ExecuteTime": {
     "end_time": "2024-10-31T16:22:47.819383Z",
     "start_time": "2024-10-31T16:22:47.803757Z"
    }
   },
   "cell_type": "code",
   "source": "df2['topic'] = df2.idxmax(axis=1)",
   "id": "d30d6f84f7c7d7bd",
   "execution_count": 42,
   "outputs": []
  },
  {
   "metadata": {
    "ExecuteTime": {
     "end_time": "2024-10-31T16:22:48.034060Z",
     "start_time": "2024-10-31T16:22:48.002386Z"
    }
   },
   "cell_type": "code",
   "source": [
    "df2['国家'] = df['国家']\n",
    "df2['摘要(译)(English)'] = df['摘要(译)(English)']\n",
    "df2['申请日'] = df['申请年']\n",
    "df2"
   ],
   "id": "6ff02588eef3b44b",
   "execution_count": 43,
   "outputs": []
  },
  {
   "metadata": {
    "ExecuteTime": {
     "end_time": "2024-10-31T16:22:48.822340Z",
     "start_time": "2024-10-31T16:22:48.257424Z"
    }
   },
   "cell_type": "code",
   "source": "df2.to_excel('stm_probability_distribution.xlsx')",
   "id": "77fa6b438a6f6c06",
   "execution_count": 44,
   "outputs": []
  },
  {
   "metadata": {
    "ExecuteTime": {
     "end_time": "2024-10-31T16:22:49.231420Z",
     "start_time": "2024-10-31T16:22:49.205730Z"
    }
   },
   "cell_type": "code",
   "source": [
    "import pandas as pd\n",
    "# 创建空的DataFrame来存放统计结果\n",
    "countries_counts = pd.DataFrame()\n",
    "\n",
    "# 统计各国家在每个topic中的数量\n",
    "for country in ['United States', 'Europe', 'China', 'India', 'South Korea']:\n",
    "    counts = df2[df2['国家'] == country]['topic'].value_counts()\n",
    "    countries_counts[country] = counts\n",
    "\n",
    "countries_counts.reset_index(inplace=True)\n",
    "countries_counts.rename(columns={'index': 'topic'}, inplace=True)\n",
    "\n",
    "countries_counts.fillna(0, inplace=True)\n",
    "\n",
    "# 打印结果\n",
    "countries_counts"
   ],
   "id": "9b451b81e1ad60ac",
   "execution_count": 45,
   "outputs": []
  },
  {
   "metadata": {
    "ExecuteTime": {
     "end_time": "2024-10-31T16:22:50.203126Z",
     "start_time": "2024-10-31T16:22:50.184248Z"
    }
   },
   "cell_type": "code",
   "source": [
    "topic_counts = df2['topic'].value_counts()\n",
    "topics_in_df_order = countries_counts['topic'].unique()\n",
    "topic_counts = topic_counts.reindex(topics_in_df_order).reset_index()\n",
    "topic_counts"
   ],
   "id": "e507d08f8a71ebc",
   "execution_count": 46,
   "outputs": []
  },
  {
   "metadata": {
    "ExecuteTime": {
     "end_time": "2024-10-31T16:22:51.292981Z",
     "start_time": "2024-10-31T16:22:51.280224Z"
    }
   },
   "cell_type": "code",
   "source": [
    "countries_counts['总量'] = topic_counts['count']\n",
    "countries_counts"
   ],
   "id": "e83964a627c83e32",
   "execution_count": 47,
   "outputs": []
  },
  {
   "metadata": {
    "ExecuteTime": {
     "end_time": "2024-10-31T16:22:52.492627Z",
     "start_time": "2024-10-31T16:22:52.481170Z"
    }
   },
   "cell_type": "code",
   "source": "patent_counts",
   "id": "6365ad721d225a2c",
   "execution_count": 48,
   "outputs": []
  },
  {
   "metadata": {
    "ExecuteTime": {
     "end_time": "2024-10-31T16:22:54.272371Z",
     "start_time": "2024-10-31T16:22:54.250538Z"
    }
   },
   "cell_type": "code",
   "source": [
    "countries_counts['China_指数'] = (countries_counts['China'] / 572) / (countries_counts['总量'] / 1392)\n",
    "countries_counts['India_指数'] = (countries_counts['India'] / 309) / (countries_counts['总量'] / 1392)\n",
    "countries_counts['South Korea_指数'] = (countries_counts['South Korea'] / 50 ) / (countries_counts['总量'] / 1392)\n",
    "countries_counts['United States_指数'] = (countries_counts['United States']/ 123 ) / (countries_counts['总量'] / 1392)\n",
    "countries_counts['Europe_指数'] = (countries_counts['Europe'] / 188) / (countries_counts['总量'] / 1392)"
   ],
   "id": "b4d554f0448263cd",
   "execution_count": 49,
   "outputs": []
  },
  {
   "metadata": {
    "ExecuteTime": {
     "end_time": "2024-10-31T16:22:58.779349Z",
     "start_time": "2024-10-31T16:22:55.337208Z"
    }
   },
   "cell_type": "code",
   "source": [
    "import matplotlib.pyplot as plt\n",
    "plt.rcParams['figure.dpi'] = 1000\n",
    "plt.rcParams['font.sans-serif']=['Arial']\n",
    "plt.rcParams['axes.unicode_minus']=False\n",
    "import matplotlib.pyplot as plt\n",
    "from math import pi\n",
    "\n",
    "categories = list(countries_counts['topic'])\n",
    "N = len(categories)\n",
    "\n",
    "angles = [n / float(N) * 2 * pi for n in range(N)]\n",
    "angles += angles[:1]\n",
    "\n",
    "ax = plt.subplot(111, polar=True)\n",
    "\n",
    "values = countries_counts['China_指数'].tolist()\n",
    "values += values[:1]\n",
    "ax.plot(angles, values, linewidth=1, linestyle='solid', label=\"People's Republic of China\")\n",
    "ax.fill(angles, values, 'b', alpha=0.1)\n",
    "\n",
    "values = countries_counts['India_指数'].tolist()\n",
    "values += values[:1]\n",
    "ax.plot(angles, values, linewidth=1, linestyle='solid', label='Republic of India')\n",
    "ax.fill(angles, values, 'r', alpha=0.1)\n",
    "\n",
    "values = countries_counts['South Korea_指数'].tolist()\n",
    "values += values[:1]\n",
    "ax.plot(angles, values, linewidth=1, linestyle='solid', label='Republic of Korea')\n",
    "ax.fill(angles, values, 'g', alpha=0.1)\n",
    "\n",
    "values = countries_counts['United States_指数'].tolist()\n",
    "values += values[:1]\n",
    "ax.plot(angles, values, linewidth=1, linestyle='solid', label='United States')\n",
    "ax.fill(angles, values, 'g', alpha=0.1)\n",
    "\n",
    "values = countries_counts['Europe_指数'].tolist()\n",
    "values += values[:1]\n",
    "ax.plot(angles, values, linewidth=1, linestyle='solid', label='Europe')\n",
    "ax.fill(angles, values, 'g', alpha=0.1)\n",
    "\n",
    "plt.xticks(angles[:-1], categories)\n",
    "\n",
    "plt.legend(loc='upper right', bbox_to_anchor=(0.1, 0.1))\n",
    "plt.savefig('../fig/雷达图.png', dpi=1000)\n",
    "plt.show()"
   ],
   "id": "58b5e7eba5c9304d",
   "execution_count": 51,
   "outputs": []
  },
  {
   "metadata": {
    "ExecuteTime": {
     "end_time": "2024-10-30T04:34:18.036045Z",
     "start_time": "2024-10-30T04:34:07.686579Z"
    }
   },
   "cell_type": "code",
   "source": [
    "import matplotlib.pyplot as plt\n",
    "plt.rcParams['figure.dpi'] = 300\n",
    "plt.rcParams['font.sans-serif']=['Arial'] #用来正常显示中文标签\n",
    "plt.rcParams['axes.unicode_minus']=False #用来正常显示负号\n",
    "# 创建子图，2行3列\n",
    "fig, axes = plt.subplots(2, 3, figsize=(15, 10), subplot_kw=dict(polar=True))\n",
    "\n",
    "# 获取最大值，统一设置Y轴范围\n",
    "max_value = max(countries_counts[['China_指数', 'India_指数', 'South Korea_指数', 'United States_指数', 'Europe_指数']].max())\n",
    "\n",
    "# 绘制China数据线\n",
    "values = countries_counts['China_指数'].tolist()\n",
    "values += values[:1]\n",
    "axes[0, 0].plot(angles, values, linewidth=1, linestyle='solid', label=\"People's Republic of China\")\n",
    "axes[0, 0].fill(angles, values, 'b', alpha=0.1)\n",
    "axes[0, 0].set_xticks(angles[:-1])\n",
    "axes[0, 0].set_xticklabels(categories)\n",
    "axes[0, 0].set_title(\"People's Republic of China\", fontweight='bold')\n",
    "axes[0, 0].set_ylim(0, max_value)\n",
    "\n",
    "# 绘制India数据线\n",
    "values = countries_counts['India_指数'].tolist()\n",
    "values += values[:1]\n",
    "axes[0, 1].plot(angles, values, linewidth=1, linestyle='solid', label='Republic of India')\n",
    "axes[0, 1].fill(angles, values, 'r', alpha=0.1)\n",
    "axes[0, 1].set_xticks(angles[:-1])\n",
    "axes[0, 1].set_xticklabels(categories)\n",
    "axes[0, 1].set_title('Republic of India', fontweight='bold')\n",
    "axes[0, 1].set_ylim(0, max_value)\n",
    "\n",
    "# 绘制South Korea数据线\n",
    "values = countries_counts['South Korea_指数'].tolist()\n",
    "values += values[:1]\n",
    "axes[0, 2].plot(angles, values, linewidth=1, linestyle='solid', label='Republic of Korea')\n",
    "axes[0, 2].fill(angles, values, 'g', alpha=0.1)\n",
    "axes[0, 2].set_xticks(angles[:-1])\n",
    "axes[0, 2].set_xticklabels(categories)\n",
    "axes[0, 2].set_title('Republic of Korea', fontweight='bold')\n",
    "axes[0, 2].set_ylim(0, max_value)\n",
    "\n",
    "# 绘制The United States数据线\n",
    "values = countries_counts['United States_指数'].tolist()\n",
    "values += values[:1]\n",
    "axes[1, 0].plot(angles, values, linewidth=1, linestyle='solid', label='United States')\n",
    "axes[1, 0].fill(angles, values, 'y', alpha=0.1)\n",
    "axes[1, 0].set_xticks(angles[:-1])\n",
    "axes[1, 0].set_xticklabels(categories)\n",
    "axes[1, 0].set_title('United States', fontweight='bold')\n",
    "axes[1, 0].set_ylim(0, max_value)\n",
    "\n",
    "# 绘制Russia数据线\n",
    "values = countries_counts['Europe_指数'].tolist()\n",
    "values += values[:1]\n",
    "axes[1, 1].plot(angles, values, linewidth=1, linestyle='solid', label='Europe')\n",
    "axes[1, 1].fill(angles, values, 'c', alpha=0.1)\n",
    "axes[1, 1].set_xticks(angles[:-1])\n",
    "axes[1, 1].set_xticklabels(categories)\n",
    "axes[1, 1].set_title('Europe', fontweight='bold')\n",
    "axes[1, 1].set_ylim(0, max_value)\n",
    "\n",
    "# 移除空的子图\n",
    "fig.delaxes(axes[1, 2])\n",
    "\n",
    "# 调整布局以避免重叠\n",
    "plt.tight_layout()\n",
    "plt.savefig('../fig/雷达图国家.png', dpi=1000)\n",
    "# 显示图像\n",
    "plt.show()"
   ],
   "id": "aa941fc28269fa01",
   "execution_count": 20,
   "outputs": []
  },
  {
   "metadata": {},
   "cell_type": "code",
   "execution_count": null,
   "source": "",
   "id": "f72a032e19783799",
   "outputs": []
  }
 ],
 "metadata": {
  "kernelspec": {
   "display_name": "Python 3 (ipykernel)",
   "language": "python",
   "name": "python3"
  },
  "language_info": {
   "codemirror_mode": {
    "name": "ipython",
    "version": 2
   },
   "file_extension": ".py",
   "mimetype": "text/x-python",
   "name": "python",
   "nbconvert_exporter": "python",
   "pygments_lexer": "ipython2",
   "version": "2.7.6"
  }
 },
 "nbformat": 4,
 "nbformat_minor": 5
}
