{
 "cells": [
  {
   "metadata": {},
   "cell_type": "code",
   "source": [
    "import pandas as pd\n",
    "import networkx as nx\n",
    "\n",
    "df = pd.read_excel('stm_probability_distribution.xlsx')\n",
    "df"
   ],
   "id": "70a1925080724ce5",
   "outputs": [],
   "execution_count": null
  },
  {
   "metadata": {},
   "cell_type": "code",
   "source": [
    "correlation_matrix = df.drop(columns=['申请日','topic', '国家', '摘要(译)(English)','Unnamed: 0']).corr()\n",
    "\n",
    "G = nx.Graph()\n",
    "\n",
    "for topic in correlation_matrix.columns:\n",
    "    G.add_node(topic)\n",
    "\n",
    "threshold = 0.16\n",
    "for i in range(len(correlation_matrix.columns)):\n",
    "    for j in range(i+1, len(correlation_matrix.columns)):\n",
    "        if abs(correlation_matrix.iloc[i, j]) > threshold:\n",
    "            G.add_edge(correlation_matrix.columns[i], correlation_matrix.columns[j], weight=correlation_matrix.iloc[i, j])\n",
    "from pyecharts import options as opts\n",
    "from pyecharts.charts import Graph\n",
    "\n",
    "\n",
    "nodes = [{\"name\": topic} for topic in correlation_matrix.columns]\n",
    "links = []\n",
    "for i in range(len(correlation_matrix.columns)):\n",
    "    for j in range(i+1, len(correlation_matrix.columns)):\n",
    "        if abs(correlation_matrix.iloc[i, j]) > threshold:\n",
    "            links.append({\"source\": correlation_matrix.columns[i], \"target\": correlation_matrix.columns[j], \"value\": correlation_matrix.iloc[i, j]})\n",
    "\n",
    "nodes = []\n",
    "for topic in correlation_matrix.columns:\n",
    "        nodes.append({\"name\": topic})\n",
    "\n",
    "graph = (\n",
    "    Graph(init_opts=opts.InitOpts(width=\"800px\", height=\"800px\"))\n",
    "    .add(\"\", nodes, links, repulsion=800, linestyle_opts=opts.LineStyleOpts(width=0.5, curve=0.3, opacity=0.7),symbol_size=50)\n",
    "    .set_global_opts(title_opts=opts.TitleOpts(title=\"Topic Network Visualization\"))\n",
    ")\n",
    "\n",
    "graph.render_notebook()"
   ],
   "id": "35a63e2ab0ef40d7",
   "outputs": [],
   "execution_count": null
  },
  {
   "metadata": {},
   "cell_type": "code",
   "source": "",
   "id": "46615f84ce7063f6",
   "outputs": [],
   "execution_count": null
  }
 ],
 "metadata": {
  "kernelspec": {
   "display_name": "Python 3",
   "language": "python",
   "name": "python3"
  },
  "language_info": {
   "codemirror_mode": {
    "name": "ipython",
    "version": 2
   },
   "file_extension": ".py",
   "mimetype": "text/x-python",
   "name": "python",
   "nbconvert_exporter": "python",
   "pygments_lexer": "ipython2",
   "version": "2.7.6"
  }
 },
 "nbformat": 4,
 "nbformat_minor": 5
}
