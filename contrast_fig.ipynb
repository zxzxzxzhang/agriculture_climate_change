{
 "cells": [
  {
   "cell_type": "code",
   "id": "initial_id",
   "metadata": {
    "collapsed": true,
    "ExecuteTime": {
     "end_time": "2024-10-30T16:00:41.968358Z",
     "start_time": "2024-10-30T16:00:41.959898Z"
    }
   },
   "source": [
    "import matplotlib.pyplot as plt\n",
    "plt.rcParams['figure.dpi'] = 300\n",
    "plt.rcParams['font.sans-serif']=['Arial'] #用来正常显示中文标签\n",
    "plt.rcParams['axes.unicode_minus']=False #用来正常显示负号"
   ],
   "execution_count": 2,
   "outputs": []
  },
  {
   "metadata": {
    "ExecuteTime": {
     "end_time": "2024-10-31T17:19:26.397595Z",
     "start_time": "2024-10-31T17:19:19.023037Z"
    }
   },
   "cell_type": "code",
   "source": [
    "import pandas as pd\n",
    "\n",
    "df1 = pd.read_excel('climate_patents.xlsx')\n",
    "df1 = df1.drop(df1.index[-1])\n",
    "df1.columns = ['Year', 'count']\n",
    "\n",
    "\n",
    "df2 = pd.read_excel('new_agriculture_data_3.xlsx')\n",
    "df2 = df2[df2['申请年'] != '-']\n",
    "df2['申请年'] = df2['申请年'].astype(int)\n",
    "df2 = df2['申请年'].value_counts().reset_index().sort_values(by='申请年', ascending=True)\n",
    "df2 = df2.drop(df2.index[-1])\n",
    "df2.columns = ['申请年', 'count']\n",
    "\n",
    "\n",
    "df3 = pd.read_excel('agricultural_papers.xlsx', sheet_name='总')\n",
    "df3 = df3.drop(df3.index[-1])"
   ],
   "id": "dbf0c3340f6949a9",
   "execution_count": 1,
   "outputs": []
  },
  {
   "metadata": {
    "ExecuteTime": {
     "end_time": "2024-10-31T17:19:46.705575Z",
     "start_time": "2024-10-31T17:19:44.181042Z"
    }
   },
   "cell_type": "code",
   "source": [
    "import matplotlib.pyplot as plt\n",
    "import seaborn as sns\n",
    "\n",
    "# Set the figure size for the first plot\n",
    "plt.figure(figsize=(8, 6))\n",
    "\n",
    "# Plot the first dataset\n",
    "sns.lineplot(x='Year', y='count', data=df1, marker='o', markersize=5, label='Climate patents')\n",
    "sns.lineplot(x='Year', y='count', data=df3, marker='v', markersize=5, label='Agricultural papers')\n",
    "sns.lineplot(x='申请年', y='count', data=df2, marker='s', markersize=5, label='Agricultural patents in climate patents')\n",
    "\n",
    "# Add titles and labels\n",
    "plt.title('Publications and Patents per Year', fontsize=12, fontweight='bold')\n",
    "plt.xlabel('Year', fontsize=12)\n",
    "plt.ylabel('Number of Publications and Patents', fontsize=12)\n",
    "\n",
    "# Add legend and grid\n",
    "plt.legend()\n",
    "plt.grid(True, which=\"both\", ls=\"--\")\n",
    "plt.savefig('./fig/contrast_fig1.png', dpi=1000)\n",
    "\n",
    "\n",
    "# Show the first plot\n",
    "plt.show()"
   ],
   "id": "7dbf28b11a514415",
   "execution_count": 5,
   "outputs": []
  },
  {
   "metadata": {
    "ExecuteTime": {
     "end_time": "2024-10-31T17:19:54.142060Z",
     "start_time": "2024-10-31T17:19:51.115243Z"
    }
   },
   "cell_type": "code",
   "source": [
    "\n",
    "# Set the figure size for the second plot\n",
    "plt.figure(figsize=(8, 6))\n",
    "\n",
    "# Set the y-axis to log scale\n",
    "plt.yscale('log')\n",
    "\n",
    "# Plot the first dataset (log scale)\n",
    "sns.lineplot(x='Year', y='count', data=df1, marker='o', markersize=5, label='Climate patents')\n",
    "sns.lineplot(x='Year', y='count', data=df3, marker='v', markersize=5, label='Agricultural papers')\n",
    "sns.lineplot(x='申请年', y='count', data=df2, marker='s', markersize=5, label='Agricultural patents in climate patents')\n",
    "\n",
    "# Add titles and labels\n",
    "plt.title('Publications and Patents per Year (Log Scale)', fontsize=12, fontweight='bold')\n",
    "plt.xlabel('Year', fontsize=12)\n",
    "plt.ylabel('Number of Publications and Patents (Log Scale)', fontsize=12)\n",
    "\n",
    "# Add legend and grid\n",
    "plt.legend()\n",
    "plt.grid(True, which=\"both\", ls=\"--\")\n",
    "\n",
    "# Show the second plot\n",
    "plt.savefig('./fig/contrast_fig2.png', dpi=1000)\n",
    "plt.show()\n"
   ],
   "id": "16efd3ed2e3b34ab",
   "execution_count": 6,
   "outputs": []
  }
 ],
 "metadata": {
  "kernelspec": {
   "display_name": "Python 3",
   "language": "python",
   "name": "python3"
  },
  "language_info": {
   "codemirror_mode": {
    "name": "ipython",
    "version": 2
   },
   "file_extension": ".py",
   "mimetype": "text/x-python",
   "name": "python",
   "nbconvert_exporter": "python",
   "pygments_lexer": "ipython2",
   "version": "2.7.6"
  }
 },
 "nbformat": 4,
 "nbformat_minor": 5
}
