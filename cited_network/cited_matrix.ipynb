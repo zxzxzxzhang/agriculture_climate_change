{
 "cells": [
  {
   "metadata": {},
   "cell_type": "code",
   "source": [
    "import pandas as pd\n",
    "import networkx as nx\n",
    "from collections import Counter\n",
    "\n",
    "data = pd.read_excel('../new_agriculture_data.xlsx')\n",
    "\n",
    "edges = []\n",
    "for row in data.iterrows():\n",
    "    _, patent = row\n",
    "    cited_patents = str(patent['被引用专利']).split(' | ')\n",
    "    for cited_patent in cited_patents:\n",
    "        if cited_patent != '-':\n",
    "            edges.append((patent['公开(公告)号'], cited_patent))\n",
    "\n",
    "string_counts = Counter(edge[0] for edge in edges)"
   ],
   "id": "cc4b306f31e41861",
   "outputs": [],
   "execution_count": null
  },
  {
   "metadata": {},
   "cell_type": "code",
   "source": [
    "filtered_edges = [edge for edge in edges if string_counts[edge[0]] >= 20]\n",
    "\n",
    "G = nx.DiGraph()\n",
    "G.add_edges_from(filtered_edges)\n",
    "G_patent = G.reverse()\n",
    "adj_matrix = nx.to_pandas_adjacency(G_patent, weight='weight')\n",
    "adj_matrix.shape"
   ],
   "id": "abda196878f83642",
   "outputs": [],
   "execution_count": null
  },
  {
   "metadata": {},
   "cell_type": "code",
   "source": "adj_matrix.to_excel(\"cited_matrix.xlsx\")",
   "id": "be3b7833961ef988",
   "outputs": [],
   "execution_count": null
  },
  {
   "metadata": {},
   "cell_type": "code",
   "source": [
    "G = nx.DiGraph()\n",
    "G.add_edges_from(edges)\n",
    "G_patent = G.reverse()\n",
    "\n",
    "closeness_centrality = nx.closeness_centrality(G_patent)\n",
    "cc_df = pd.DataFrame(list(closeness_centrality.items()), columns=['Node', 'Closeness Centrality'])\n",
    "cc_df.to_excel(\"closeness_centrality.xlsx\", index=False)"
   ],
   "id": "ff2f6a40a1814de3",
   "outputs": [],
   "execution_count": null
  }
 ],
 "metadata": {
  "kernelspec": {
   "display_name": "Python 3",
   "language": "python",
   "name": "python3"
  },
  "language_info": {
   "codemirror_mode": {
    "name": "ipython",
    "version": 2
   },
   "file_extension": ".py",
   "mimetype": "text/x-python",
   "name": "python",
   "nbconvert_exporter": "python",
   "pygments_lexer": "ipython2",
   "version": "2.7.6"
  }
 },
 "nbformat": 4,
 "nbformat_minor": 5
}
