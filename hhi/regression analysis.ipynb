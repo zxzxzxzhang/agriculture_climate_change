{
 "cells": [
  {
   "cell_type": "code",
   "id": "6116d617-0959-4114-96e0-669be48cac41",
   "metadata": {},
   "source": [
    "options(repr.plot.width = 10, repr.plot.height = 6, repr.plot.res = 300)\n",
    "library(readxl)"
   ],
   "outputs": [],
   "execution_count": null
  },
  {
   "cell_type": "code",
   "id": "ea3ed6bb-9d0c-4fb9-81bd-f026c9d1c5a2",
   "metadata": {},
   "source": [
    "df <- read_excel('HHI.xlsx')\n",
    "df <- df[-(1:27), ]\n",
    "df <- df[-nrow(df), ]\n",
    "options(repr.plot.width = 6, repr.plot.height = 6, repr.plot.res = 300)\n",
    "degree = 1\n",
    "poly3 <- poly(df$Year, degree = degree)\n",
    "\n",
    "# Perform three regressions\n",
    "fit <- lm(df$HHI ~ poly3)\n",
    "summary(fit)\n",
    "\n",
    "jpeg('hhi.jpg', width = 10, height = 6, units = 'in', res = 1000)  # 设置宽度、高度和图像质量\n",
    "\n",
    "plot(df$Year, df$HHI, type='b', xlab='Year', ylab='HHI', col = '#1E90FF', ylim=c(0,1), frame.plot = TRUE, lty = 1, lwd = 2.5, xaxt = \"n\")\n",
    "box(bty = \"L\")\n",
    "\n",
    "\n",
    "x <- seq(min(df$Year), max(df$Year), length.out = 100)\n",
    "poly5 <- poly(x, degree = degree) \n",
    "y <- predict(fit, list(poly3 = poly5))  \n",
    "lines(x, y, col = 'red', lty = 2, lwd = 1.5)\n",
    "\n",
    "\n",
    "equation <- bquote(\n",
    "  y == .(round(fit$coefficients[1], 3)) -\n",
    "    .(abs(round(fit$coefficients[2], 3))) * x\n",
    ")\n",
    "\n",
    "\n",
    "text(2006.5, 1, equation)\n",
    "\n",
    "r2 <- summary(fit)$r.squared\n",
    "\n",
    "xticks <- seq(min(df$Year), max(df$Year), by = 1) \n",
    "# 设置 x 轴刻度标签旋转为 90 度\n",
    "par(las = 2) \n",
    "\n",
    "# 绘制 x 轴，确保每个年份都有刻度标签\n",
    "axis(side = 1, at = xticks, labels = xticks, cex.axis = 0.75)\n",
    "\n",
    "# 恢复 las 参数\n",
    "par(las = 0)\n",
    "\n",
    "dev.off()"
   ],
   "outputs": [],
   "execution_count": null
  },
  {
   "metadata": {},
   "cell_type": "code",
   "source": "",
   "id": "b32ec6fe7fd64cb7",
   "outputs": [],
   "execution_count": null
  }
 ],
 "metadata": {
  "kernelspec": {
   "display_name": "R",
   "language": "R",
   "name": "ir"
  },
  "language_info": {
   "codemirror_mode": "r",
   "file_extension": ".r",
   "mimetype": "text/x-r-source",
   "name": "R",
   "pygments_lexer": "r",
   "version": "4.2.1"
  }
 },
 "nbformat": 4,
 "nbformat_minor": 5
}
